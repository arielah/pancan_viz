{
 "cells": [
  {
   "cell_type": "markdown",
   "metadata": {},
   "source": [
    "# Dimensionality Reduction of Pan-Cancer Gene Expression\n",
    "\n",
    "Here I perform different dimensionality reduction algorithms on TCGA pan-cancer data. There are over 10,000 different tumors measured from 33 different cancer-types.\n",
    "\n",
    "The purpose of finding distinct representations of the data are to compare how well the aggregate features perform in various tasks. The current algorithms implemented in this script are:\n",
    "\n",
    "1. PCA\n",
    "2. ICA\n",
    "3. NMF\n",
    "5. MDS\n",
    "6. Spectral Embedding\n",
    "\n",
    "I also implement these algorithms for copy number data.\n",
    "\n",
    "Other implemented algorithms in alternative scripts include\n",
    "\n",
    "1. Denoising Autoencoder\n",
    "2. Variational Autoencoder\n"
   ]
  },
  {
   "cell_type": "code",
   "execution_count": 1,
   "metadata": {
    "collapsed": true
   },
   "outputs": [],
   "source": [
    "import os\n",
    "import pandas as pd\n",
    "\n",
    "from sklearn import manifold\n",
    "from sklearn.preprocessing import StandardScaler, MinMaxScaler\n",
    "from sklearn import decomposition\n",
    "from statsmodels.robust.scale import mad"
   ]
  },
  {
   "cell_type": "markdown",
   "metadata": {},
   "source": [
    "## Load RNAseq and Copy Number Data"
   ]
  },
  {
   "cell_type": "code",
   "execution_count": 3,
   "metadata": {
    "collapsed": false
   },
   "outputs": [],
   "source": [
    "# Load Z Score Transformed Data\n",
    "rnaseq_file = 'https://github.com/greenelab/tybalt/raw/928804ffd3bb3f9d5559796b2221500c303ed92c/data/pancan_scaled_rnaseq.tsv.gz'\n",
    "rnaseq_df = pd.read_table(rnaseq_file, index_col=0)"
   ]
  },
  {
   "cell_type": "code",
   "execution_count": 13,
   "metadata": {
    "collapsed": false
   },
   "outputs": [
    {
     "name": "stdout",
     "output_type": "stream",
     "text": [
      "(10459, 5000)\n"
     ]
    }
   ],
   "source": [
    "# Load Zero-One Transformed Data\n",
    "rnaseq_zeroone_file = 'https://github.com/greenelab/tybalt/raw/928804ffd3bb3f9d5559796b2221500c303ed92c/data/pancan_scaled_zeroone_rnaseq.tsv.gz'\n",
    "rnaseq_zeroone_df = pd.read_table(rnaseq_zeroone_file, index_col=0)\n",
    "print(rnaseq_zeroone_df.shape)"
   ]
  },
  {
   "cell_type": "code",
   "execution_count": 3,
   "metadata": {
    "collapsed": true
   },
   "outputs": [],
   "source": [
    "copy_file = os.path.join('processed', 'pancan_processed_copynumber.tsv')\n",
    "copy_df = pd.read_table(copy_file, index_col=0)"
   ]
  },
  {
   "cell_type": "markdown",
   "metadata": {},
   "source": [
    "## PCA\n",
    "\n",
    "Principal components analysis (PCA) is a linear dimensionality reduction algorithm that aims to find the highest sources of variation in input data. We use the [sklearn implementation of PCA](http://scikit-learn.org/stable/modules/generated/sklearn.decomposition.PCA.html)."
   ]
  },
  {
   "cell_type": "code",
   "execution_count": 6,
   "metadata": {
    "collapsed": false
   },
   "outputs": [
    {
     "name": "stdout",
     "output_type": "stream",
     "text": [
      "CPU times: user 15.6 s, sys: 3.28 s, total: 18.8 s\n",
      "Wall time: 5.52 s\n"
     ]
    }
   ],
   "source": [
    "%%time\n",
    "pca = decomposition.PCA(n_components=100)\n",
    "pca_out = pca.fit_transform(rnaseq_df)"
   ]
  },
  {
   "cell_type": "code",
   "execution_count": 7,
   "metadata": {
    "collapsed": true
   },
   "outputs": [],
   "source": [
    "pca_rnaseq = pd.DataFrame(pca_out, index=rnaseq_df.index)\n",
    "pca_rnaseq.columns = pca_rnaseq.columns + 1\n",
    "pca_rnaseq.index.name = 'tcga_id'"
   ]
  },
  {
   "cell_type": "code",
   "execution_count": 8,
   "metadata": {
    "collapsed": true
   },
   "outputs": [],
   "source": [
    "pca_rnaseq_file = os.path.join('data', 'pca_rnaseq.tsv.gz')\n",
    "pca_rnaseq.to_csv(pca_rnaseq_file, sep='\\t', compression='gzip')"
   ]
  },
  {
   "cell_type": "markdown",
   "metadata": {},
   "source": [
    "## ICA\n",
    "\n",
    "Independent Components Analysis (ICA) looks for maximally linear independent signals in input data. We use the  [sklearn implementation of FastICA](http://scikit-learn.org/stable/modules/generated/sklearn.decomposition.FastICA.html)."
   ]
  },
  {
   "cell_type": "code",
   "execution_count": 10,
   "metadata": {
    "collapsed": false
   },
   "outputs": [
    {
     "name": "stdout",
     "output_type": "stream",
     "text": [
      "CPU times: user 3min 12s, sys: 7.32 s, total: 3min 19s\n",
      "Wall time: 55.6 s\n"
     ]
    }
   ],
   "source": [
    "%%time\n",
    "ica = decomposition.FastICA(n_components=100)\n",
    "ica_out = ica.fit_transform(rnaseq_df)"
   ]
  },
  {
   "cell_type": "code",
   "execution_count": 11,
   "metadata": {
    "collapsed": true
   },
   "outputs": [],
   "source": [
    "ica_rnaseq = pd.DataFrame(ica_out, index=rnaseq_df.index)\n",
    "ica_rnaseq.columns = ica_rnaseq.columns + 1\n",
    "ica_rnaseq.index.name = 'tcga_id'"
   ]
  },
  {
   "cell_type": "code",
   "execution_count": 12,
   "metadata": {
    "collapsed": true
   },
   "outputs": [],
   "source": [
    "ica_rnaseq_file = os.path.join('data', 'ica_rnaseq.tsv.gz')\n",
    "ica_rnaseq.to_csv(ica_rnaseq_file, sep='\\t', compression='gzip')"
   ]
  },
  {
   "cell_type": "markdown",
   "metadata": {},
   "source": [
    "## NMF\n",
    "\n",
    "Non-negative matrix factorization (NMF) factorizes a given matrix (X) into two matrices of sample (W) and gene (H) activation across a reduced set of internal components, or latent features. We use the [sklearn implementation of NMF](http://scikit-learn.org/stable/modules/generated/sklearn.decomposition.NMF.html)."
   ]
  },
  {
   "cell_type": "code",
   "execution_count": 14,
   "metadata": {
    "collapsed": false
   },
   "outputs": [
    {
     "name": "stdout",
     "output_type": "stream",
     "text": [
      "CPU times: user 1min 52s, sys: 38.4 s, total: 2min 30s\n",
      "Wall time: 45.5 s\n"
     ]
    }
   ],
   "source": [
    "%%time\n",
    "nmf = decomposition.NMF(n_components=100, init='nndsvdar', tol=5e-3)\n",
    "nmf_out = nmf.fit_transform(rnaseq_zeroone_df)"
   ]
  },
  {
   "cell_type": "code",
   "execution_count": 15,
   "metadata": {
    "collapsed": true
   },
   "outputs": [],
   "source": [
    "nmf_rnaseq = pd.DataFrame(nmf_out, index=rnaseq_zeroone_df.index)\n",
    "nmf_rnaseq.columns = nmf_rnaseq.columns + 1\n",
    "nmf_rnaseq.index.name = 'tcga_id'"
   ]
  },
  {
   "cell_type": "code",
   "execution_count": 16,
   "metadata": {
    "collapsed": false
   },
   "outputs": [],
   "source": [
    "nmf_rnaseq_file = os.path.join('data', 'nmf_rnaseq.tsv.gz')\n",
    "nmf_rnaseq.to_csv(nmf_rnaseq_file, sep='\\t', compression='gzip')"
   ]
  },
  {
   "cell_type": "markdown",
   "metadata": {},
   "source": [
    "## MDS"
   ]
  },
  {
   "cell_type": "code",
   "execution_count": 19,
   "metadata": {
    "collapsed": false
   },
   "outputs": [],
   "source": [
    "mds = manifold.MDS(3, max_iter=100, n_init=1)\n",
    "mds_out = mds.fit_transform(data_subset_df)"
   ]
  },
  {
   "cell_type": "code",
   "execution_count": 20,
   "metadata": {
    "collapsed": false
   },
   "outputs": [],
   "source": [
    "mds_out = pd.DataFrame(mds_out, columns=['x', 'y'])\n",
    "mds_out.index = data_subset_df.index\n",
    "mds_out.index.name = 'tcga_id'\n",
    "mds_out.to_csv('mds_out.tsv', sep='\\t')"
   ]
  },
  {
   "cell_type": "markdown",
   "metadata": {},
   "source": [
    "## SE"
   ]
  },
  {
   "cell_type": "code",
   "execution_count": 21,
   "metadata": {
    "collapsed": false
   },
   "outputs": [
    {
     "name": "stderr",
     "output_type": "stream",
     "text": [
      "/home/gway/anaconda3/lib/python3.5/site-packages/sklearn/manifold/spectral_embedding_.py:229: UserWarning: Graph is not fully connected, spectral embedding may not work as expected.\n",
      "  warnings.warn(\"Graph is not fully connected, spectral embedding\"\n"
     ]
    }
   ],
   "source": [
    "se = manifold.SpectralEmbedding(2, n_neighbors=10)\n",
    "se_out = se.fit_transform(data_subset_df)"
   ]
  },
  {
   "cell_type": "code",
   "execution_count": 22,
   "metadata": {
    "collapsed": true
   },
   "outputs": [],
   "source": [
    "se_out = pd.DataFrame(se_out, columns=['x', 'y'])\n",
    "se_out.index = data_subset_df.index\n",
    "se_out.index.name = 'tcga_id'\n",
    "se_out.to_csv('se_out.tsv', sep='\\t')"
   ]
  }
 ],
 "metadata": {
  "kernelspec": {
   "display_name": "Python [default]",
   "language": "python",
   "name": "python3"
  },
  "language_info": {
   "codemirror_mode": {
    "name": "ipython",
    "version": 3
   },
   "file_extension": ".py",
   "mimetype": "text/x-python",
   "name": "python",
   "nbconvert_exporter": "python",
   "pygments_lexer": "ipython3",
   "version": "3.5.2"
  }
 },
 "nbformat": 4,
 "nbformat_minor": 0
}
