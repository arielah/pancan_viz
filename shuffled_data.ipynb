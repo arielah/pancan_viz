{
 "cells": [
  {
   "cell_type": "markdown",
   "metadata": {},
   "source": [
    "# Removing correlational structure in RNAseq data\n",
    "\n",
    "This \"shuffled\" dataset can be used as a negative control. These data should have no predictive ability or underlying features.\n",
    "\n",
    "Shuffling was performed by permuting all sample gene expression vectors independently and by shuffling sample IDs."
   ]
  },
  {
   "cell_type": "code",
   "execution_count": 1,
   "metadata": {
    "collapsed": true
   },
   "outputs": [],
   "source": [
    "import os\n",
    "from random import sample\n",
    "import numpy as np\n",
    "import pandas as pd"
   ]
  },
  {
   "cell_type": "code",
   "execution_count": 2,
   "metadata": {
    "collapsed": true
   },
   "outputs": [],
   "source": [
    "np.random.seed(123)"
   ]
  },
  {
   "cell_type": "code",
   "execution_count": 3,
   "metadata": {
    "collapsed": true
   },
   "outputs": [],
   "source": [
    "def shuffle_columns(gene):\n",
    "    return np.random.permutation(gene.tolist())"
   ]
  },
  {
   "cell_type": "code",
   "execution_count": 4,
   "metadata": {
    "collapsed": false
   },
   "outputs": [
    {
     "data": {
      "text/html": [
       "<div>\n",
       "<style>\n",
       "    .dataframe thead tr:only-child th {\n",
       "        text-align: right;\n",
       "    }\n",
       "\n",
       "    .dataframe thead th {\n",
       "        text-align: left;\n",
       "    }\n",
       "\n",
       "    .dataframe tbody tr th {\n",
       "        vertical-align: top;\n",
       "    }\n",
       "</style>\n",
       "<table border=\"1\" class=\"dataframe\">\n",
       "  <thead>\n",
       "    <tr style=\"text-align: right;\">\n",
       "      <th></th>\n",
       "      <th>RPS4Y1</th>\n",
       "      <th>XIST</th>\n",
       "      <th>KRT5</th>\n",
       "      <th>AGR2</th>\n",
       "      <th>CEACAM5</th>\n",
       "      <th>KRT6A</th>\n",
       "      <th>KRT14</th>\n",
       "      <th>CEACAM6</th>\n",
       "      <th>DDX3Y</th>\n",
       "      <th>KDM5D</th>\n",
       "      <th>...</th>\n",
       "      <th>FAM129A</th>\n",
       "      <th>C8orf48</th>\n",
       "      <th>CDK5R1</th>\n",
       "      <th>FAM81A</th>\n",
       "      <th>C13orf18</th>\n",
       "      <th>GDPD3</th>\n",
       "      <th>SMAGP</th>\n",
       "      <th>C2orf85</th>\n",
       "      <th>POU5F1B</th>\n",
       "      <th>CHST2</th>\n",
       "    </tr>\n",
       "  </thead>\n",
       "  <tbody>\n",
       "    <tr>\n",
       "      <th>TCGA-02-0047-01</th>\n",
       "      <td>0.898017</td>\n",
       "      <td>-0.332348</td>\n",
       "      <td>-1.089849</td>\n",
       "      <td>-1.387105</td>\n",
       "      <td>-0.982601</td>\n",
       "      <td>-0.623583</td>\n",
       "      <td>-0.891389</td>\n",
       "      <td>-1.109676</td>\n",
       "      <td>1.100101</td>\n",
       "      <td>1.032201</td>\n",
       "      <td>...</td>\n",
       "      <td>-0.460255</td>\n",
       "      <td>0.429706</td>\n",
       "      <td>1.479864</td>\n",
       "      <td>0.848098</td>\n",
       "      <td>0.882722</td>\n",
       "      <td>-0.904272</td>\n",
       "      <td>-1.054615</td>\n",
       "      <td>2.056113</td>\n",
       "      <td>-0.967458</td>\n",
       "      <td>1.123911</td>\n",
       "    </tr>\n",
       "    <tr>\n",
       "      <th>TCGA-02-0055-01</th>\n",
       "      <td>-0.504287</td>\n",
       "      <td>0.900005</td>\n",
       "      <td>-0.585813</td>\n",
       "      <td>-1.387105</td>\n",
       "      <td>-0.982601</td>\n",
       "      <td>-0.565511</td>\n",
       "      <td>-0.820424</td>\n",
       "      <td>-0.919220</td>\n",
       "      <td>-0.756125</td>\n",
       "      <td>-0.608233</td>\n",
       "      <td>...</td>\n",
       "      <td>0.721747</td>\n",
       "      <td>0.039802</td>\n",
       "      <td>0.442817</td>\n",
       "      <td>0.644982</td>\n",
       "      <td>1.096820</td>\n",
       "      <td>-0.333884</td>\n",
       "      <td>0.840735</td>\n",
       "      <td>0.855049</td>\n",
       "      <td>-1.021807</td>\n",
       "      <td>0.873719</td>\n",
       "    </tr>\n",
       "  </tbody>\n",
       "</table>\n",
       "<p>2 rows × 5000 columns</p>\n",
       "</div>"
      ],
      "text/plain": [
       "                   RPS4Y1      XIST      KRT5      AGR2   CEACAM5     KRT6A  \\\n",
       "TCGA-02-0047-01  0.898017 -0.332348 -1.089849 -1.387105 -0.982601 -0.623583   \n",
       "TCGA-02-0055-01 -0.504287  0.900005 -0.585813 -1.387105 -0.982601 -0.565511   \n",
       "\n",
       "                    KRT14   CEACAM6     DDX3Y     KDM5D    ...      FAM129A  \\\n",
       "TCGA-02-0047-01 -0.891389 -1.109676  1.100101  1.032201    ...    -0.460255   \n",
       "TCGA-02-0055-01 -0.820424 -0.919220 -0.756125 -0.608233    ...     0.721747   \n",
       "\n",
       "                  C8orf48    CDK5R1    FAM81A  C13orf18     GDPD3     SMAGP  \\\n",
       "TCGA-02-0047-01  0.429706  1.479864  0.848098  0.882722 -0.904272 -1.054615   \n",
       "TCGA-02-0055-01  0.039802  0.442817  0.644982  1.096820 -0.333884  0.840735   \n",
       "\n",
       "                  C2orf85   POU5F1B     CHST2  \n",
       "TCGA-02-0047-01  2.056113 -0.967458  1.123911  \n",
       "TCGA-02-0055-01  0.855049 -1.021807  0.873719  \n",
       "\n",
       "[2 rows x 5000 columns]"
      ]
     },
     "execution_count": 4,
     "metadata": {},
     "output_type": "execute_result"
    }
   ],
   "source": [
    "rna_file = 'https://github.com/greenelab/tybalt/raw/b68264f5ecffd8a8b2adf2bfc6ae01a340a90b4e/data/pancan_scaled_rnaseq.tsv.gz'\n",
    "rnaseq_df = pd.read_table(rna_file, index_col=0)\n",
    "rnaseq_df.head(2)"
   ]
  },
  {
   "cell_type": "code",
   "execution_count": 5,
   "metadata": {
    "collapsed": false
   },
   "outputs": [],
   "source": [
    "# Shuffle sample IDs\n",
    "shuffled_sample_id = sample(rnaseq_df.index.tolist(), rnaseq_df.shape[0])"
   ]
  },
  {
   "cell_type": "code",
   "execution_count": 6,
   "metadata": {
    "collapsed": false
   },
   "outputs": [],
   "source": [
    "rnaseq_shuffled_df = rnaseq_df.apply(shuffle_columns, axis=1)\n",
    "rnaseq_shuffled_df.index = shuffled_sample_id"
   ]
  },
  {
   "cell_type": "code",
   "execution_count": 7,
   "metadata": {
    "collapsed": false
   },
   "outputs": [],
   "source": [
    "output_file = os.path.join('data', 'pancan_scaled_rnaseq_shuffled_ids.tsv.gz')\n",
    "rnaseq_shuffled_df.to_csv(output_file, sep='\\t', compression='gzip')"
   ]
  }
 ],
 "metadata": {
  "kernelspec": {
   "display_name": "Python [default]",
   "language": "python",
   "name": "python3"
  },
  "language_info": {
   "codemirror_mode": {
    "name": "ipython",
    "version": 3
   },
   "file_extension": ".py",
   "mimetype": "text/x-python",
   "name": "python",
   "nbconvert_exporter": "python",
   "pygments_lexer": "ipython3",
   "version": "3.5.2"
  }
 },
 "nbformat": 4,
 "nbformat_minor": 0
}
