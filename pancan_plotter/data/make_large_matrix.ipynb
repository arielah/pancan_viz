{
 "cells": [
  {
   "cell_type": "code",
   "execution_count": 1,
   "metadata": {
    "collapsed": true
   },
   "outputs": [],
   "source": [
    "import os\n",
    "import pandas as pd\n",
    "import numpy as np"
   ]
  },
  {
   "cell_type": "code",
   "execution_count": 2,
   "metadata": {
    "collapsed": true
   },
   "outputs": [],
   "source": [
    "rna_tsne = '../../../tybalt/results/rnaseq_tsne_features.tsv'\n",
    "rna_nmf = '../../nmf_rnaseq.tsv'\n",
    "rna_pca = '../../pca_rnaseq.tsv'\n",
    "rna_ica = '../../ica_rnaseq.tsv'\n",
    "rna_vae = '../../../tybalt/data/encoded_rnaseq_onehidden_warmup_batchnorm.tsv'\n",
    "rna_adage = '../../../tybalt/data/encoded_adage_features.tsv'\n",
    "\n",
    "# copy_pca = 'CopyNumber_pca_results.tsv'\n",
    "# copy_tsne = 'CopyNumber_tsne_results.tsv'\n",
    "# copy_nmf = 'CopyNumber_nmf_results.tsv'\n",
    "\n",
    "clinical = \"vae_encoded_with_clinical.tsv\""
   ]
  },
  {
   "cell_type": "code",
   "execution_count": 3,
   "metadata": {
    "collapsed": false
   },
   "outputs": [],
   "source": [
    "rna_tsne_df = pd.read_table(rna_tsne, index_col=0)\n",
    "rna_nmf_df = pd.read_table(rna_nmf, index_col=0)\n",
    "rna_pca_df = pd.read_table(rna_pca, index_col=0)\n",
    "rna_ica_df = pd.read_table(rna_ica, index_col=0)\n",
    "rna_vae_df = pd.read_table(rna_vae, index_col=0)\n",
    "rna_adage_df = pd.read_table(rna_adage, index_col=0)\n",
    "\n",
    "# copy_pca_df = pd.read_table(copy_pca, index_col=0)\n",
    "# copy_tsne_df = pd.read_table(copy_tsne, index_col=0)\n",
    "# copy_nmf_df = pd.read_table(copy_nmf, index_col=0)\n",
    "\n",
    "clinical_df = pd.read_table(clinical, index_col=0)"
   ]
  },
  {
   "cell_type": "code",
   "execution_count": 4,
   "metadata": {
    "collapsed": false
   },
   "outputs": [
    {
     "name": "stderr",
     "output_type": "stream",
     "text": [
      "/home/gway/anaconda3/lib/python3.5/site-packages/ipykernel/__main__.py:5: SettingWithCopyWarning: \n",
      "A value is trying to be set on a copy of a slice from a DataFrame.\n",
      "Try using .loc[row_indexer,col_indexer] = value instead\n",
      "\n",
      "See the caveats in the documentation: http://pandas.pydata.org/pandas-docs/stable/indexing.html#indexing-view-versus-copy\n",
      "/home/gway/anaconda3/lib/python3.5/site-packages/ipykernel/__main__.py:6: SettingWithCopyWarning: \n",
      "A value is trying to be set on a copy of a slice from a DataFrame.\n",
      "Try using .loc[row_indexer,col_indexer] = value instead\n",
      "\n",
      "See the caveats in the documentation: http://pandas.pydata.org/pandas-docs/stable/indexing.html#indexing-view-versus-copy\n",
      "/home/gway/anaconda3/lib/python3.5/site-packages/pandas/core/indexing.py:517: SettingWithCopyWarning: \n",
      "A value is trying to be set on a copy of a slice from a DataFrame.\n",
      "Try using .loc[row_indexer,col_indexer] = value instead\n",
      "\n",
      "See the caveats in the documentation: http://pandas.pydata.org/pandas-docs/stable/indexing.html#indexing-view-versus-copy\n",
      "  self.obj[item] = s\n",
      "/home/gway/anaconda3/lib/python3.5/site-packages/ipykernel/__main__.py:31: SettingWithCopyWarning: \n",
      "A value is trying to be set on a copy of a slice from a DataFrame.\n",
      "Try using .loc[row_indexer,col_indexer] = value instead\n",
      "\n",
      "See the caveats in the documentation: http://pandas.pydata.org/pandas-docs/stable/indexing.html#indexing-view-versus-copy\n",
      "/home/gway/anaconda3/lib/python3.5/site-packages/ipykernel/__main__.py:32: SettingWithCopyWarning: \n",
      "A value is trying to be set on a copy of a slice from a DataFrame.\n",
      "Try using .loc[row_indexer,col_indexer] = value instead\n",
      "\n",
      "See the caveats in the documentation: http://pandas.pydata.org/pandas-docs/stable/indexing.html#indexing-view-versus-copy\n"
     ]
    }
   ],
   "source": [
    "real_clinical_df = clinical_df.iloc[:, range(101, 117)]\n",
    "real_clinical_df.index = clinical_df.index\n",
    "\n",
    "# Fix some clinical variables\n",
    "real_clinical_df[\"year_of_diagnosis\"] = real_clinical_df[\"year_of_diagnosis\"].fillna(0)\n",
    "real_clinical_df[\"year_of_diagnosis\"] = real_clinical_df[\"year_of_diagnosis\"].astype(int)\n",
    "real_clinical_df.loc[(real_clinical_df[\"year_of_diagnosis\"] < 1979), [\"year_of_diagnosis\"]] = np.nan\n",
    "\n",
    "# Assign diagnosis year and age to bins\n",
    "year_interval = pd.IntervalIndex.from_tuples([\n",
    "        (1978, 2003),\n",
    "        (2003, 2007),\n",
    "        (2007, 2009),\n",
    "        (2009, 2010),\n",
    "        (2010, 2011),\n",
    "        (2011, 2013)\n",
    "    ])\n",
    "\n",
    "age_interval = pd.IntervalIndex.from_tuples([\n",
    "        (0, 34),\n",
    "        (34, 44),\n",
    "        (44, 50),\n",
    "        (50, 55),\n",
    "        (55, 60),\n",
    "        (60, 65),\n",
    "        (65, 70),\n",
    "        (70, 75),\n",
    "        (75, 95)\n",
    "    ])\n",
    "\n",
    "real_clinical_df[\"age_at_diagnosis\"] = pd.cut(real_clinical_df[\"age_at_diagnosis\"], bins = age_interval)\n",
    "real_clinical_df[\"year_of_diagnosis\"] = pd.cut(real_clinical_df[\"year_of_diagnosis\"], bins = year_interval)"
   ]
  },
  {
   "cell_type": "code",
   "execution_count": 5,
   "metadata": {
    "collapsed": false
   },
   "outputs": [],
   "source": [
    "rna_tsne_df = rna_tsne_df.add_suffix('_rna_tsne')\n",
    "rna_nmf_df = rna_nmf_df.add_suffix('_rna_nmf')\n",
    "rna_pca_df = rna_pca_df.add_suffix('_rna_pca')\n",
    "rna_ica_df = rna_ica_df.add_suffix('_rna_ica')\n",
    "rna_vae_df = rna_vae_df.add_suffix('_rna_vae')\n",
    "rna_adage_df = rna_adage_df.add_suffix('_rna_adage')\n",
    "\n",
    "# copy_pca_df = copy_pca_df.add_suffix('_copy_pca')\n",
    "# copy_tsne_df = copy_tsne_df.add_suffix('_copy_tsne')\n",
    "# copy_nmf_df = copy_nmf_df.add_suffix('_copy_nmf')"
   ]
  },
  {
   "cell_type": "code",
   "execution_count": 6,
   "metadata": {
    "collapsed": false
   },
   "outputs": [],
   "source": [
    "all_data_combined = (rna_tsne_df.merge(rna_nmf_df, how='inner', left_index=True, right_index=True)\n",
    "                     .merge(rna_pca_df, how='inner', left_index=True, right_index=True)\n",
    "                     .merge(rna_ica_df, how='inner', left_index=True, right_index=True)\n",
    "                     .merge(rna_vae_df, how='inner', left_index=True, right_index=True)\n",
    "                     .merge(rna_adage_df, how='inner', left_index=True, right_index=True)\n",
    "                     # .merge(copy_pca_df, how='inner', left_index=True, right_index=True)\n",
    "                     # .merge(copy_tsne_df, how='inner', left_index=True, right_index=True)\n",
    "                     # .merge(copy_nmf_df, how='inner', left_index=True, right_index=True)\n",
    "                     .merge(real_clinical_df, how='inner', left_index=True, right_index=True))"
   ]
  },
  {
   "cell_type": "code",
   "execution_count": 7,
   "metadata": {
    "collapsed": false
   },
   "outputs": [],
   "source": [
    "all_data_combined.to_csv('data_feature_encodings.tsv', sep='\\t')"
   ]
  }
 ],
 "metadata": {
  "kernelspec": {
   "display_name": "Python [default]",
   "language": "python",
   "name": "python3"
  },
  "language_info": {
   "codemirror_mode": {
    "name": "ipython",
    "version": 3
   },
   "file_extension": ".py",
   "mimetype": "text/x-python",
   "name": "python",
   "nbconvert_exporter": "python",
   "pygments_lexer": "ipython3",
   "version": "3.5.2"
  }
 },
 "nbformat": 4,
 "nbformat_minor": 0
}
