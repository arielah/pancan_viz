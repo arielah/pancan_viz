{
 "cells": [
  {
   "cell_type": "code",
   "execution_count": 1,
   "metadata": {
    "collapsed": true
   },
   "outputs": [],
   "source": [
    "import os\n",
    "import pandas as pd"
   ]
  },
  {
   "cell_type": "code",
   "execution_count": 2,
   "metadata": {
    "collapsed": true
   },
   "outputs": [],
   "source": [
    "rna_tsne = 'RNAseq_tsne_results.tsv'\n",
    "rna_nmf = 'RNAseq_nmf_results.tsv'\n",
    "rna_pca = 'RNAseq_pca_results.tsv'\n",
    "rna_vae = '../../../vae_pancancer/data/encoded_rnaseq_onehidden_warmup_batchnorm.tsv'\n",
    "\n",
    "copy_pca = 'CopyNumber_pca_results.tsv'\n",
    "copy_tsne = 'CopyNumber_tsne_results.tsv'\n",
    "copy_nmf = 'CopyNumber_nmf_results.tsv'\n",
    "\n",
    "clinical = \"combined_clinical_encoded.tsv\""
   ]
  },
  {
   "cell_type": "code",
   "execution_count": 3,
   "metadata": {
    "collapsed": false
   },
   "outputs": [],
   "source": [
    "rna_tsne_df = pd.read_table(rna_tsne, index_col=0)\n",
    "rna_nmf_df = pd.read_table(rna_nmf, index_col=0)\n",
    "rna_pca_df = pd.read_table(rna_pca, index_col=0)\n",
    "rna_vae_df = pd.read_table(rna_vae, index_col=0)\n",
    "\n",
    "copy_pca_df = pd.read_table(copy_pca, index_col=0)\n",
    "copy_tsne_df = pd.read_table(copy_tsne, index_col=0)\n",
    "copy_nmf_df = pd.read_table(copy_nmf, index_col=0)\n",
    "\n",
    "clinical_df = pd.read_table(clinical, index_col=0)"
   ]
  },
  {
   "cell_type": "code",
   "execution_count": 4,
   "metadata": {
    "collapsed": false
   },
   "outputs": [
    {
     "data": {
      "text/html": [
       "<div>\n",
       "<style>\n",
       "    .dataframe thead tr:only-child th {\n",
       "        text-align: right;\n",
       "    }\n",
       "\n",
       "    .dataframe thead th {\n",
       "        text-align: left;\n",
       "    }\n",
       "\n",
       "    .dataframe tbody tr th {\n",
       "        vertical-align: top;\n",
       "    }\n",
       "</style>\n",
       "<table border=\"1\" class=\"dataframe\">\n",
       "  <thead>\n",
       "    <tr style=\"text-align: right;\">\n",
       "      <th></th>\n",
       "      <th>sample_base</th>\n",
       "      <th>platform</th>\n",
       "      <th>portion_id</th>\n",
       "      <th>age_at_diagnosis</th>\n",
       "      <th>stage</th>\n",
       "      <th>vital_status</th>\n",
       "      <th>race</th>\n",
       "      <th>acronym</th>\n",
       "      <th>disease</th>\n",
       "      <th>organ</th>\n",
       "      <th>drug</th>\n",
       "      <th>ethnicity</th>\n",
       "      <th>percent_tumor_nuclei</th>\n",
       "      <th>gender</th>\n",
       "      <th>sample_type</th>\n",
       "      <th>analysis_center</th>\n",
       "      <th>year_of_diagnosis</th>\n",
       "    </tr>\n",
       "    <tr>\n",
       "      <th>sample_id</th>\n",
       "      <th></th>\n",
       "      <th></th>\n",
       "      <th></th>\n",
       "      <th></th>\n",
       "      <th></th>\n",
       "      <th></th>\n",
       "      <th></th>\n",
       "      <th></th>\n",
       "      <th></th>\n",
       "      <th></th>\n",
       "      <th></th>\n",
       "      <th></th>\n",
       "      <th></th>\n",
       "      <th></th>\n",
       "      <th></th>\n",
       "      <th></th>\n",
       "      <th></th>\n",
       "    </tr>\n",
       "  </thead>\n",
       "  <tbody>\n",
       "    <tr>\n",
       "      <th>TCGA-02-0047-01</th>\n",
       "      <td>TCGA-02-0047</td>\n",
       "      <td>Illumina HiSeq</td>\n",
       "      <td>TCGA-02-0047-01A-01</td>\n",
       "      <td>78.0</td>\n",
       "      <td>NaN</td>\n",
       "      <td>dead</td>\n",
       "      <td>white</td>\n",
       "      <td>GBM</td>\n",
       "      <td>Glioblastoma multiforme</td>\n",
       "      <td>Brain</td>\n",
       "      <td>NaN</td>\n",
       "      <td>not hispanic or latino</td>\n",
       "      <td>90.0</td>\n",
       "      <td>male</td>\n",
       "      <td>Primary Tumor</td>\n",
       "      <td>BI</td>\n",
       "      <td>2005.0</td>\n",
       "    </tr>\n",
       "    <tr>\n",
       "      <th>TCGA-02-0055-01</th>\n",
       "      <td>TCGA-02-0055</td>\n",
       "      <td>Illumina HiSeq</td>\n",
       "      <td>TCGA-02-0055-01A-01</td>\n",
       "      <td>62.0</td>\n",
       "      <td>NaN</td>\n",
       "      <td>dead</td>\n",
       "      <td>white</td>\n",
       "      <td>GBM</td>\n",
       "      <td>Glioblastoma multiforme</td>\n",
       "      <td>Brain</td>\n",
       "      <td>Temozolomide</td>\n",
       "      <td>not hispanic or latino</td>\n",
       "      <td>95.0</td>\n",
       "      <td>female</td>\n",
       "      <td>Primary Tumor</td>\n",
       "      <td>BI</td>\n",
       "      <td>2005.0</td>\n",
       "    </tr>\n",
       "  </tbody>\n",
       "</table>\n",
       "</div>"
      ],
      "text/plain": [
       "                  sample_base        platform           portion_id  \\\n",
       "sample_id                                                            \n",
       "TCGA-02-0047-01  TCGA-02-0047  Illumina HiSeq  TCGA-02-0047-01A-01   \n",
       "TCGA-02-0055-01  TCGA-02-0055  Illumina HiSeq  TCGA-02-0055-01A-01   \n",
       "\n",
       "                 age_at_diagnosis stage vital_status   race acronym  \\\n",
       "sample_id                                                             \n",
       "TCGA-02-0047-01              78.0   NaN         dead  white     GBM   \n",
       "TCGA-02-0055-01              62.0   NaN         dead  white     GBM   \n",
       "\n",
       "                                 disease  organ          drug  \\\n",
       "sample_id                                                       \n",
       "TCGA-02-0047-01  Glioblastoma multiforme  Brain           NaN   \n",
       "TCGA-02-0055-01  Glioblastoma multiforme  Brain  Temozolomide   \n",
       "\n",
       "                              ethnicity  percent_tumor_nuclei  gender  \\\n",
       "sample_id                                                               \n",
       "TCGA-02-0047-01  not hispanic or latino                  90.0    male   \n",
       "TCGA-02-0055-01  not hispanic or latino                  95.0  female   \n",
       "\n",
       "                   sample_type analysis_center  year_of_diagnosis  \n",
       "sample_id                                                          \n",
       "TCGA-02-0047-01  Primary Tumor              BI             2005.0  \n",
       "TCGA-02-0055-01  Primary Tumor              BI             2005.0  "
      ]
     },
     "execution_count": 4,
     "metadata": {},
     "output_type": "execute_result"
    }
   ],
   "source": [
    "real_clinical_df = clinical_df.iloc[:, range(101, 118)]\n",
    "real_clinical_df.index = clinical_df['sample_id']\n",
    "real_clinical_df.head(2)"
   ]
  },
  {
   "cell_type": "code",
   "execution_count": 5,
   "metadata": {
    "collapsed": false
   },
   "outputs": [],
   "source": [
    "rna_tsne_df = rna_tsne_df.add_suffix('_rna_tsne')\n",
    "rna_nmf_df = rna_nmf_df.add_suffix('_rna_nmf')\n",
    "rna_pca_df = rna_pca_df.add_suffix('_rna_pca')\n",
    "rna_vae_df = rna_vae_df.add_suffix('_rna_vae')\n",
    "\n",
    "copy_pca_df = copy_pca_df.add_suffix('_copy_pca')\n",
    "copy_tsne_df = copy_tsne_df.add_suffix('_copy_tsne')\n",
    "copy_nmf_df = copy_nmf_df.add_suffix('_copy_nmf')"
   ]
  },
  {
   "cell_type": "code",
   "execution_count": 6,
   "metadata": {
    "collapsed": false
   },
   "outputs": [],
   "source": [
    "all_data_combined = (rna_tsne_df.merge(rna_nmf_df, how = 'inner', left_index=True, right_index=True)\n",
    "                     .merge(rna_pca_df, how = 'inner', left_index=True, right_index=True)\n",
    "                     .merge(rna_vae_df, how = 'inner', left_index=True, right_index=True)\n",
    "                     .merge(copy_pca_df, how = 'inner', left_index=True, right_index=True)\n",
    "                     .merge(copy_tsne_df, how = 'inner', left_index=True, right_index=True)\n",
    "                     .merge(copy_nmf_df, how = 'inner', left_index=True, right_index=True)\n",
    "                     .merge(real_clinical_df, how = 'inner', left_index=True, right_index=True))"
   ]
  },
  {
   "cell_type": "code",
   "execution_count": 7,
   "metadata": {
    "collapsed": false
   },
   "outputs": [],
   "source": [
    "all_data_combined.to_csv('data_feature_encodings.tsv', sep='\\t')"
   ]
  }
 ],
 "metadata": {
  "kernelspec": {
   "display_name": "Python [default]",
   "language": "python",
   "name": "python3"
  },
  "language_info": {
   "codemirror_mode": {
    "name": "ipython",
    "version": 3
   },
   "file_extension": ".py",
   "mimetype": "text/x-python",
   "name": "python",
   "nbconvert_exporter": "python",
   "pygments_lexer": "ipython3",
   "version": "3.5.2"
  }
 },
 "nbformat": 4,
 "nbformat_minor": 0
}
